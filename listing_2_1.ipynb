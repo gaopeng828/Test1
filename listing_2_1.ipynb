{
 "cells": [
  {
   "cell_type": "code",
   "execution_count": null,
   "metadata": {
    "collapsed": true
   },
   "outputs": [],
   "source": [
    "#generate Toy dataset\n",
    "import pylab\n",
    "import numpy\n",
    "x = numpy.linespace(-1,1,100)\n",
    "signal = 2 + x + 2*x*x\n",
    "noise  = numpy.random.normal(0,0.1,100)\n",
    "y = signal + noise\n",
    "pylab.plot(signal,'b')\n",
    "pylab.plot(y,'g')\n",
    "pylab.plot(noise,'r')\n",
    "pylab.xlabel(\"x\")\n",
    "pylab.ylabel(\"y\")\n",
    "pylab.legend([\"without noise\", \"with noise\",\"noise\"],loc=2)\n",
    "x_train = x[0:80]\n",
    "y_train = y[0:80]"
   ]
  },
  {
   "cell_type": "code",
   "execution_count": null,
   "metadata": {
    "collapsed": true
   },
   "outputs": [],
   "source": []
  }
 ],
 "metadata": {
  "kernelspec": {
   "display_name": "Python 3",
   "language": "python",
   "name": "python3"
  },
  "language_info": {
   "codemirror_mode": {
    "name": "ipython",
    "version": 3
   },
   "file_extension": ".py",
   "mimetype": "text/x-python",
   "name": "python",
   "nbconvert_exporter": "python",
   "pygments_lexer": "ipython3",
   "version": "3.6.1"
  }
 },
 "nbformat": 4,
 "nbformat_minor": 2
}
