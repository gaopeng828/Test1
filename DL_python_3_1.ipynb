{
 "cells": [
  {
   "cell_type": "code",
   "execution_count": 3,
   "metadata": {},
   "outputs": [
    {
     "ename": "ModuleNotFoundError",
     "evalue": "No module named 'autograd'",
     "output_type": "error",
     "traceback": [
      "\u001b[1;31m---------------------------------------------------------------------------\u001b[0m",
      "\u001b[1;31mModuleNotFoundError\u001b[0m                       Traceback (most recent call last)",
      "\u001b[1;32m<ipython-input-3-0524d6c6b0b8>\u001b[0m in \u001b[0;36m<module>\u001b[1;34m()\u001b[0m\n\u001b[0;32m      1\u001b[0m \u001b[1;31m#Listing 3-1 A 2_layer Neural Network for Regression\u001b[0m\u001b[1;33m\u001b[0m\u001b[1;33m\u001b[0m\u001b[0m\n\u001b[1;32m----> 2\u001b[1;33m \u001b[1;32mimport\u001b[0m \u001b[0mautograd\u001b[0m\u001b[1;33m.\u001b[0m\u001b[0mnumpy\u001b[0m \u001b[1;32mas\u001b[0m \u001b[0mnp\u001b[0m\u001b[1;33m\u001b[0m\u001b[0m\n\u001b[0m\u001b[0;32m      3\u001b[0m \u001b[1;32mimport\u001b[0m \u001b[0mautograd\u001b[0m\u001b[1;33m.\u001b[0m\u001b[0mnumpy\u001b[0m\u001b[1;33m.\u001b[0m\u001b[0mrandom\u001b[0m \u001b[1;32mas\u001b[0m \u001b[0mnpr\u001b[0m\u001b[1;33m\u001b[0m\u001b[0m\n\u001b[0;32m      4\u001b[0m \u001b[1;32mfrom\u001b[0m \u001b[0mautograd\u001b[0m \u001b[1;32mimport\u001b[0m \u001b[0mgrad\u001b[0m\u001b[1;33m\u001b[0m\u001b[0m\n\u001b[0;32m      5\u001b[0m \u001b[1;32mimport\u001b[0m \u001b[0msklearn\u001b[0m\u001b[1;33m.\u001b[0m\u001b[0mmetrics\u001b[0m\u001b[1;33m\u001b[0m\u001b[0m\n",
      "\u001b[1;31mModuleNotFoundError\u001b[0m: No module named 'autograd'"
     ]
    }
   ],
   "source": [
    "#Listing 3-1 A 2_layer Neural Network for Regression\n",
    "import autograd.numpy as np\n",
    "import autograd.numpy.random as npr\n",
    "from autograd import grad\n",
    "import sklearn.metrics\n",
    "import pylab"
   ]
  },
  {
   "cell_type": "code",
   "execution_count": null,
   "metadata": {
    "collapsed": true
   },
   "outputs": [],
   "source": [
    "#genrate dataset\n",
    "examples = 1000\n",
    "features = 100\n",
    "D = (npr.randn(exmaples,features),npr.randn(examples))\n",
    "#specify the network\n",
    "layer1_units = 10\n",
    "layer2_units = 1\n",
    "W1 = npr.rand(features,layer1_units)\n",
    "b1 = npr.rand(layer1_units)\n",
    "W2 = npr.rand(layer1_units,layer2_units)\n",
    "b2 = 0.0\n",
    "theta = (W1,b1,W2,b2)\n",
    "\n",
    "#define the loss function\n",
    "def squared_loss(y,y_hat):\n",
    "    return np.dot((y-y_hat),(y-y_hat))\n",
    "\n",
    "#output layer\n",
    "def binary_cross_entropy(y,y_hat):\n",
    "    return np.sum(-((y*np.log(y_hat))+((1-y)*np.log(1-y_hat))))\n",
    "#Wraper around the neural network\n",
    "def neural_network(x,theta):\n",
    "    w1,b1,w2,b2 = theta\n",
    "    return np.tanh(np.dot((np.tanh(np.dot(x,w1)+b1)),w2)+b2)\n",
    "\n",
    "#Wrapper around the objective function to be optimised\n",
    "def objective(theta,idx):\n",
    "    return squared_loss(D[1][idx],neural_network(D[0][idx],theta))\n",
    "\n",
    "#update\n",
    "def update_theta(theta,delta,alpha):\n",
    "    W1,b1,W2,b2 = theta\n",
    "    w1_delta, b1_delta, w2_delta, b2_delta = delta\n",
    "    W1_new = W1 - alpha*w1_delta\n",
    "    b1_new = b1 - alpha*b1_delta\n",
    "    W2_new = W2 - alpha*w2_delta\n",
    "    b2_new = b2 - alpha*b2_delta\n",
    "    new_theta = (w1_new, b1_new, w2_new, b2_new)\n",
    "    return new_theta\n",
    "\n",
    "#computer gradient\n",
    "grad_objective = grad(objective)\n",
    "\n",
    "#train the neural network\n",
    "epochs = 10\n",
    "print \"RMSE before trainning:\",sklearn.metrics.mean_squared_error(D[1],neural_network(D[0],theta))\n",
    "rmse = []\n",
    "for i in xrange(0,epochs):\n",
    "    for j in xrange(0,examples):\n",
    "        delta = grad_objective(theta,j)\n",
    "        theta = update_theta(theta,delta,0.01)\n",
    "rmse.append(sklearn.metrics.mean_squared_error(D[1],neural_network(D[0],theta)))\n",
    "print \"RMSE after trainning:\",sklearn.metrics.mean_squared_error(D[1],neural_network(D[0],theta))\n",
    "pylab.plot(rmse)\n",
    "pylab.show()\n"
   ]
  }
 ],
 "metadata": {
  "kernelspec": {
   "display_name": "Python 3",
   "language": "python",
   "name": "python3"
  },
  "language_info": {
   "codemirror_mode": {
    "name": "ipython",
    "version": 3
   },
   "file_extension": ".py",
   "mimetype": "text/x-python",
   "name": "python",
   "nbconvert_exporter": "python",
   "pygments_lexer": "ipython3",
   "version": "3.6.1"
  }
 },
 "nbformat": 4,
 "nbformat_minor": 2
}
